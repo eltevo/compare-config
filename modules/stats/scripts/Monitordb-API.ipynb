{
 "cells": [
  {
   "cell_type": "code",
   "execution_count": 1,
   "metadata": {
    "ExecuteTime": {
     "end_time": "2019-01-06T20:20:19.148357Z",
     "start_time": "2019-01-06T20:20:18.541561Z"
    }
   },
   "outputs": [],
   "source": [
    "import psycopg2\n",
    "import datetime, time\n",
    "import pandas as pd\n",
    "import datetime as dt\n",
    "#import holoviews as hv\n",
    "#hv.extension('bokeh','matplotlib')\n",
    "\n",
    "from numpy import *\n",
    "import json\n",
    "#from holoviews import opts\n",
    "#from bokeh.models import DatetimeTickFormatter, Legend\n",
    "\n",
    "#from monitor import *"
   ]
  },
  {
   "cell_type": "code",
   "execution_count": 2,
   "metadata": {
    "ExecuteTime": {
     "end_time": "2019-01-06T20:20:19.178700Z",
     "start_time": "2019-01-06T20:20:19.150718Z"
    },
    "code_folding": [
     0
    ]
   },
   "outputs": [],
   "source": [
    "properties = { 'cpuload' : {'table_name' :'containerstats_cpuload',\n",
    "                            'unit' : '%',\n",
    "                            'conv' : 1/100,\n",
    "                            'resample': 'sum',\n",
    "                           },\n",
    "                'memoryusage' : {'table_name' :'containerstats_mem',\n",
    "                            'unit' : 'MB',\n",
    "                            'conv' : 1/1024**2,\n",
    "                            'resample': 'max',\n",
    "                           },  \n",
    "                'pids' : {'table_name' :'containerstats_pids',\n",
    "                            'unit' : '',\n",
    "                            'conv' : 1,\n",
    "                            'resample': 'max',\n",
    "                           },  \n",
    "                'net_i' : {'table_name' :'containerstats_net_i',\n",
    "                            'unit' : 'MB',\n",
    "                            'conv' : 1/1024**2,\n",
    "                            'resample': 'sum',\n",
    "                           },\n",
    "                'net_o' : {'table_name' :'containerstats_net_o',\n",
    "                            'unit' : 'MB',\n",
    "                            'conv' : 1/1024**2,\n",
    "                            'resample': 'sum',\n",
    "                           },\n",
    "                'block_i' : {'table_name' :'containerstats_block_i',\n",
    "                            'unit' : 'MB',\n",
    "                            'conv' : 1/1024**2,\n",
    "                             'resample': 'sum',\n",
    "                           },\n",
    "                'block_o' : {'table_name' :'containerstats_block_o',\n",
    "                            'unit' : 'MB',\n",
    "                            'conv' : 1/1024**2,\n",
    "                            'resample': 'sum',\n",
    "                           }\n",
    "                 }\n"
   ]
  },
  {
   "cell_type": "code",
   "execution_count": 3,
   "metadata": {
    "ExecuteTime": {
     "end_time": "2019-01-06T20:20:19.292150Z",
     "start_time": "2019-01-06T20:20:19.187801Z"
    }
   },
   "outputs": [],
   "source": [
    "REQUEST = json.dumps({\n",
    "'container' : {},\n",
    "'user' : {},\n",
    "'project' : {},\n",
    "'last' : {},\n",
    "'stat' : {},\n",
    "'args' : {}\n",
    "})"
   ]
  },
  {
   "cell_type": "code",
   "execution_count": 4,
   "metadata": {
    "ExecuteTime": {
     "end_time": "2019-01-06T20:20:21.052921Z",
     "start_time": "2019-01-06T20:20:20.997361Z"
    },
    "code_folding": []
   },
   "outputs": [
    {
     "name": "stdout",
     "output_type": "stream",
     "text": [
      "{\"Error\": \"No user_name was supplied\"}\n"
     ]
    }
   ],
   "source": [
    "# GET /stats/user\n",
    "req = json.loads(REQUEST)\n",
    "args = req['args']\n",
    "\n",
    "P = properties\n",
    "\n",
    "total_cpu=0\n",
    "current_mem = 0 \n",
    "current_cpu = 0\n",
    "cpus={}\n",
    "mems={}\n",
    "if 'user_name' not in args:\n",
    "    print(json.dumps({'Error': 'No user_name was supplied'}))\n",
    "else: # 'user_name' in args:\n",
    "    # Note the [0] when retrieving the argument.\n",
    "    user_name = args['user_name'][0]\n",
    "    Usage = Usage_Data()\n",
    "    cont_list = Usage.select_user_containers(user_name)\n",
    "    Usage.gather_data(cont_list)\n",
    "    \n",
    "\n",
    "    for cid in Usage.selected_containers:\n",
    "        cont_data = Usage.containers[cid]\n",
    "        current_cpu += cont_data.last_data('cpuload')\n",
    "        cpus[cont_data.name] = cont_data.last_data('cpuload')\n",
    "        \n",
    "        current_mem += cont_data.last_data('memoryusage')*P['memoryusage']['conv']\n",
    "        mems[cont_data.name] = cont_data.last_data('memoryusage')*P['memoryusage']['conv']\n",
    "\n",
    "    scurrent_cpu = \"%.2f%s CPU\"%(float(current_cpu), P['cpuload']['unit'])\n",
    "    scurrent_mem = \"%d %s\"%(int(current_mem),  P['memoryusage']['unit'])\n",
    "    stotal_cpu = \"%.2f%s CPU\"%(float(total_cpu), P['cpuload']['unit'])\n",
    "    \n",
    "    print(json.dumps({'current_cpu': scurrent_cpu, 'current_mem': scurrent_mem,\n",
    "                      'total_cpu': stotal_cpu, 'cpus': cpus,\n",
    "                     'mems': mems}))\n",
    "\n"
   ]
  },
  {
   "cell_type": "code",
   "execution_count": 5,
   "metadata": {
    "ExecuteTime": {
     "end_time": "2019-01-06T20:20:22.265908Z",
     "start_time": "2019-01-06T20:20:22.225594Z"
    }
   },
   "outputs": [
    {
     "name": "stdout",
     "output_type": "stream",
     "text": [
      "{\"Error\": \"No project_name was supplied\"}\n"
     ]
    }
   ],
   "source": [
    "# GET /stats/project\n",
    "req = json.loads(REQUEST)\n",
    "args = req['args']\n",
    "\n",
    "P = properties\n",
    "\n",
    "total_cpu=0\n",
    "current_mem = 0 \n",
    "current_cpu = 0\n",
    "cpus={}\n",
    "mems={}\n",
    "if 'project_name' not in args:\n",
    "    print(json.dumps({'Error': 'No project_name was supplied'}))\n",
    "else: # 'user_name' in args:\n",
    "    # Note the [0] when retrieving the argument.\n",
    "    project_name = args['project_name'][0]\n",
    "    Usage = Usage_Data()\n",
    "    cont_list = Usage.select_project_containers(project_name)\n",
    "    Usage.gather_data(cont_list)\n",
    "    \n",
    "    for cid in Usage.selected_containers:\n",
    "        cont_data = Usage.containers[cid]\n",
    "        current_cpu += cont_data.last_data('cpuload')\n",
    "        cpus[cont_data.name] = cont_data.last_data('cpuload')\n",
    "        \n",
    "        current_mem += cont_data.last_data('memoryusage')*P['memoryusage']['conv']\n",
    "        mems[cont_data.name] = cont_data.last_data('memoryusage')*P['memoryusage']['conv']\n",
    "\n",
    "    scurrent_cpu = \"%.2f%s CPU\"%(float(current_cpu), P['cpuload']['unit'])\n",
    "    scurrent_mem = \"%d %s\"%(int(current_mem),  P['memoryusage']['unit'])\n",
    "    stotal_cpu = \"%.2f%s CPU\"%(float(total_cpu), P['cpuload']['unit'])\n",
    "    \n",
    "    print(json.dumps({'current_cpu': scurrent_cpu, 'current_mem': scurrent_mem,\n",
    "                      'total_cpu': stotal_cpu, 'cpus': cpus,\n",
    "                     'mems': mems}))"
   ]
  },
  {
   "cell_type": "code",
   "execution_count": 7,
   "metadata": {
    "ExecuteTime": {
     "end_time": "2019-01-06T20:20:31.994360Z",
     "start_time": "2019-01-06T20:20:31.931002Z"
    }
   },
   "outputs": [
    {
     "name": "stdout",
     "output_type": "stream",
     "text": [
      "{\"GET\": [\"current_load\", \"running_containers\", \"all_containers\"]}\n"
     ]
    }
   ],
   "source": [
    "# GET /stats/stats\n",
    "req = json.loads(REQUEST)\n",
    "args = req['args']\n",
    "\n",
    "P = properties\n",
    "\n",
    "if 'all_containers' in args:\n",
    "    Usage = Usage_Data()\n",
    "    print(Usage.number_of_containers)\n",
    "elif 'running_containers' in args:\n",
    "    Usage = Usage_Data()\n",
    "    len(self.containers_info[self.containers_info.running==True])\n",
    "elif 'current_load' in args:\n",
    "    Usage = Usage_Data()\n",
    "    Usage.gather_data()\n",
    "    total_cpu=0\n",
    "    current_mem = 0 \n",
    "    current_cpu = 0\n",
    "    for cid in Usage.running_containers:\n",
    "        cont_data = Usage.containers[cid]\n",
    "        current_cpu += cont_data.last_data('cpuload')     \n",
    "        current_mem += cont_data.last_data('memoryusage')*P['memoryusage']['conv']\n",
    "\n",
    "    scurrent_cpu = \"%.2f%s CPU\"%(float(current_cpu), P['cpuload']['unit'])\n",
    "    scurrent_mem = \"%d %s\"%(int(current_mem),  P['memoryusage']['unit'])\n",
    "    stotal_cpu = \"0\"\n",
    "    \n",
    "    print(json.dumps({'current_cpu': scurrent_cpu, 'current_mem': scurrent_mem,\n",
    "                      'total_cpu': stotal_cpu}))\n",
    "else:\n",
    "    print(json.dumps({'GET':['current_load','running_containers','all_containers']}))\n",
    "    "
   ]
  },
  {
   "cell_type": "code",
   "execution_count": null,
   "metadata": {},
   "outputs": [],
   "source": [
    "# GET /stats/help\n",
    "req = json.loads(REQUEST)\n",
    "args = req['args']\n",
    "\n",
    "print(json.dumps({'GET':{'stats': {'current_load':['current_cpu', 'current_mem', 'total_cpu'],\n",
    "                                   'running_containers': 'int', 'all_containers': 'int'},\n",
    "                         'user': {'user_name': ['current_cpu','current_mem', 'total_cpu', 'cpus', 'mems']},\n",
    "                         'project': {'project_name': ['current_cpu','current_mem', 'total_cpu', 'cpus', 'mems']},\n",
    "                        }\n",
    "                 }\n",
    "                )\n",
    "     )"
   ]
  },
  {
   "cell_type": "code",
   "execution_count": 184,
   "metadata": {
    "ExecuteTime": {
     "end_time": "2019-01-06T20:12:20.519949Z",
     "start_time": "2019-01-06T20:12:18.843322Z"
    }
   },
   "outputs": [
    {
     "name": "stdout",
     "output_type": "stream",
     "text": [
      "{\"current_cpu\": \"2103.00% CPU\", \"current_mem\": \"104209 MB\", \"total_cpu\": \"0.00% CPU\"}\n"
     ]
    }
   ],
   "source": [
    "# Usage = Usage_Data()\n",
    "# Usage.gather_data(last=True)\n",
    "# total_cpu=0\n",
    "# current_mem = 0 \n",
    "# current_cpu = 0\n",
    "\n",
    "# for cid in Usage.running_containers:\n",
    "#     cont_data = Usage.containers[cid]\n",
    "#     current_cpu += cont_data.last_data('cpuload')     \n",
    "#     current_mem += cont_data.last_data('memoryusage')*P['memoryusage']['conv']\n",
    "\n",
    "# scurrent_cpu = \"%.2f%s CPU\"%(float(current_cpu), P['cpuload']['unit'])\n",
    "# scurrent_mem = \"%d %s\"%(int(current_mem),  P['memoryusage']['unit'])\n",
    "\n",
    "# print(json.dumps({'current_cpu': scurrent_cpu, 'current_mem': scurrent_mem,\n",
    "#                   'total_cpu': stotal_cpu}))"
   ]
  },
  {
   "cell_type": "code",
   "execution_count": 9,
   "metadata": {
    "ExecuteTime": {
     "end_time": "2019-01-06T20:23:44.416839Z",
     "start_time": "2019-01-06T20:23:43.324076Z"
    },
    "code_folding": [
     0,
     184,
     193,
     196,
     204
    ]
   },
   "outputs": [],
   "source": [
    "def connect_to_database():\n",
    "    conn = psycopg2.connect(\"host=kooplex-monitordb dbname=monitor user=usage_viewer password=whatisusage\")\n",
    "    return conn\n",
    "    \n",
    "class Container():\n",
    "    \"\"\"\n",
    "    A docker container that belongs to a certain user and project\n",
    "    \"\"\"\n",
    "    \n",
    "    def __init__(self, c_id):\n",
    "        \"\"\"\n",
    "        :param tables: dict of queried sql tables\n",
    "        :param cid: docker container id\n",
    "        :param name: docker container name\n",
    "        :param running: whether docker container is running now\n",
    "        :param last: collect only the last some data\n",
    "        \"\"\"\n",
    "        \n",
    "        self.tables = {}\n",
    "        self.cid = c_id\n",
    "        self.name = \"\"\n",
    "        self.running = False\n",
    "        self.user_name = \"\"\n",
    "        self.project_name = \"\"\n",
    "        self.last = False\n",
    "        #self._get_name()\n",
    "\n",
    "    def get_usage(self, prop):\n",
    "        \"\"\"\n",
    "        Get 'cpuload', 'memoryusage' etc. for a certain user and project\n",
    "        \"\"\"\n",
    "        \n",
    "        table_name = properties[prop]['table_name']\n",
    "        if self.last:\n",
    "            sqlc = \"select * from %s where container_id = %d ORDER BY ID DESC LIMIT 1\" % (table_name, self.cid)            \n",
    "        else:\n",
    "            sqlc = \"select * from %s where container_id = %d\" % (table_name, self.cid)\n",
    "         \n",
    "        tdf = pd.read_sql(sqlc, connect_to_database())                                      \n",
    "        tdf['datetime'] = pd.to_datetime(tdf['last_read'], unit='s')\n",
    "        tdf = tdf.set_index('datetime')            \n",
    "        tdf.drop(['last_read'], axis=1, inplace=True)\n",
    "        \n",
    "        if tdf.empty:\n",
    "            #print(\"%s EMPTY ERROR\"%prop)\n",
    "            self.tables[prop] = tdf\n",
    "            return\n",
    "        \n",
    "        tdf = tdf.astype(float)\n",
    "        \n",
    "        if not self.last:\n",
    "            if prop == 'cpuload':\n",
    "                tdf = tdf.resample('2T').mean()\n",
    "            elif prop == 'memoryusage':\n",
    "                tdf = tdf.resample('2T').ffill()\n",
    "\n",
    "            tdf = tdf.fillna(value=0)\n",
    "            \n",
    "        self.tables[prop] = tdf\n",
    "\n",
    "    def last_data(self, prop):\n",
    "        tdf = self.tables[prop]\n",
    "        tt = tdf[(datetime.datetime.now()-datetime.timedelta(minutes=10)).strftime(\"%Y-%m-%d %H:%M\"):]\n",
    "        if not self.running:\n",
    "            return 0\n",
    "        if prop == 'cpuload':\n",
    "            if len(tt) == 0:\n",
    "                return 0\n",
    "            else:\n",
    "                tt = tt.sort_index()\n",
    "                return tt.iloc[-1][prop]\n",
    "        else:\n",
    "            return tdf.iloc[-1][prop]\n",
    "    \n",
    "\n",
    "    \n",
    "class Usage_Data():\n",
    "    def __init__(self):\n",
    "        self.usage_dict = {}\n",
    "        self.usage = {}\n",
    "        self.containers = {}\n",
    "        self.containers_info = pd.DataFrame(columns=['id', 'container_name', 'project', 'username'])\n",
    "        self.selected_containers = []\n",
    "        self.get_all_containers()\n",
    "        self.total_memory = 0\n",
    "        self.total_cpu = 0     \n",
    "        #self.temp_df = None\n",
    "        self.prop_to_use = None\n",
    "        \n",
    "        \n",
    "    def get_all_containers(self):\n",
    "        sqlc = \"select ff.id, project, username, container_name, running from (select conts.id, project, hubuser, \\\n",
    "        container_name, running from container as conts inner join project as proj on conts.project_id = proj.id) \\\n",
    "        as ff inner join hubuser on ff.hubuser = hubuser.id;\"\n",
    "        self.containers_info = pd.read_sql(sqlc, connect_to_database())\n",
    "        self.selected_containers = list(self.containers_info.id)        \n",
    "        \n",
    "    @property\n",
    "    def number_of_containers(self):\n",
    "        return  len(self.containers_info)\n",
    "\n",
    "    @property\n",
    "    def running_containers(self):\n",
    "        return self.containers_info[self.containers_info.running==True].id\n",
    "    \n",
    "    def select_project_containers(self, project_name):\n",
    "        c_ids = self.containers_info[self.containers_info.project == project_name].id\n",
    "        self.selected_containers = list(c_ids)\n",
    "        return self.selected_containers\n",
    "        \n",
    "    def select_user_containers(self, user_name):\n",
    "        c_ids = self.containers_info[self.containers_info.username == user_name].id\n",
    "        self.selected_containers = list(c_ids)\n",
    "        return self.selected_containers        \n",
    "    \n",
    "    @property\n",
    "    def list_all_projects(self):\n",
    "        return Usage.containers_info.drop_duplicates()\n",
    "\n",
    "    @property\n",
    "    def list_all_users(self):\n",
    "        return Usage.containers_info.username.drop_duplicates()\n",
    "\n",
    "    @property\n",
    "    def list_all_containers(self):\n",
    "        return Usage.containers_info\n",
    "    \n",
    "    def gather_data(self, container_ids=[], properties=[], last=False):\n",
    "        self.containers = {}\n",
    "        self.get_all_containers()\n",
    "\n",
    "        if container_ids:\n",
    "            self.selected_containers  = container_ids\n",
    "        \n",
    "        self.selected_containers = intersect1d(self.selected_containers, self.running_containers)\n",
    "        for i in self.selected_containers:\n",
    "            C = Container(i)\n",
    "                        \n",
    "            C.last = last\n",
    "            #C.get_cpu_usage()\n",
    "            #C.get_memory_usage()\n",
    "            C.get_usage('cpuload')\n",
    "            C.get_usage('memoryusage')\n",
    "            info_for_C = self.containers_info[self.containers_info.id==C.cid]\n",
    "            C.running = info_for_C['running'].iloc[0]\n",
    "            C.user_name = info_for_C['username'].iloc[0]\n",
    "            C.name = info_for_C['container_name'].iloc[0]\n",
    "            self.containers[C.cid] = C\n",
    "\n",
    "    def monthly_usage(self, prop, trunc):\n",
    "        if prop==1:\n",
    "            self.prop_to_use = 'cpuload'\n",
    "        elif prop==2:\n",
    "            self.prop_to_use = 'memoryusage'       \n",
    "        return self._usage( sample_rate='m', trunc=trunc*30)\n",
    "    \n",
    "    #def weekly_usage(self, prop='cpuload', trunc=1):\n",
    "    #def weekly_usage(self, prop=1, trunc=1):\n",
    "    def weekly_usage(self, prop, trunc):\n",
    "        if prop==1:\n",
    "            self.prop_to_use = 'cpuload'\n",
    "        elif prop==2:\n",
    "            self.prop_to_use = 'memoryusage'\n",
    "        return self._usage(sample_rate='w', trunc=trunc*7)\n",
    "\n",
    "    #def daily_usage(self, prop='cpuload', trunc=1):\n",
    "    def daily_usage(self, prop, trunc):\n",
    "        if prop==1:\n",
    "            self.prop_to_use = 'cpuload'\n",
    "        elif prop==2:\n",
    "            self.prop_to_use = 'memoryusage'\n",
    "        return self._usage(sample_rate='d', trunc=trunc)\n",
    "    \n",
    "    def daily_usage_s(self, prop='cpuload', trunc=30):\n",
    "        self.prop_to_use = prop\n",
    "        return self._usage(sample_rate='d', trunc=trunc)\n",
    "    \n",
    "    def myplot(self):\n",
    "        bars = hv.Bars(self.temp_df, ['datetime', 'project_name'], self.prop_to_use)\n",
    "        return bars.relabel(group='Stacked')\n",
    "    \n",
    "    def _usage(self, sample_rate='d', trunc=1):\n",
    "        #temporary df\n",
    "        self.temp_df = pd.DataFrame()\n",
    "        for cid in self.selected_containers:\n",
    "            # select container data\n",
    "            C = self.containers[cid]['container']\n",
    "            # get the relevant table\n",
    "            C_t = C.tables[self.prop_to_use].copy()\n",
    "            # set the relevant time interval\n",
    "            start_time = dt.datetime.now() - dt.timedelta(trunc) \n",
    "            # sort indices (it might be reordered)\n",
    "            C_t.df = C_t.df.sort_index()\n",
    "            # truncate data according t the relevant time interval\n",
    "            C_t.df = C_t.df.truncate(before=start_time)\n",
    "            # do anything only if we still have data\n",
    "            if not C_t.is_empty:\n",
    "                C_t.resample_df(sample_rate)\n",
    "                C_t.add_labels()\n",
    "                # put pd.Series into a pd.DataFrame\n",
    "                self.temp_df = pd.concat([ self.temp_df, C_t.df])\n",
    "                \n",
    "        #return self.myplot()\n",
    "        \n",
    "   "
   ]
  },
  {
   "cell_type": "code",
   "execution_count": 13,
   "metadata": {
    "ExecuteTime": {
     "end_time": "2019-01-06T20:25:01.748694Z",
     "start_time": "2019-01-06T20:25:01.363180Z"
    }
   },
   "outputs": [
    {
     "name": "stdout",
     "output_type": "stream",
     "text": [
      "{\"current_cpu\": \"84.00% CPU\", \"current_mem\": \"2196 MB\", \"total_cpu\": \"0.00% CPU\", \"cpus\": {\"/nb-jegesm-testall-jegesm\": 84.0, \"/nb-jegesm-integrin-jegesm\": 0, \"/nb-jegesm-test-jegesm\": 0, \"/nb-jegesm-adatokgreen-jegesm\": 0, \"/nb-jegesm-dataexplorationandvisualisation-jegesm\": 0, \"/nb-jegesm-tesztelni-jegesm\": 0}, \"mems\": {\"/nb-jegesm-testall-jegesm\": 1706.09765625, \"/nb-jegesm-integrin-jegesm\": 58.5078125, \"/nb-jegesm-test-jegesm\": 206.203125, \"/nb-jegesm-adatokgreen-jegesm\": 60.91796875, \"/nb-jegesm-dataexplorationandvisualisation-jegesm\": 57.640625, \"/nb-jegesm-tesztelni-jegesm\": 107.5625}}\n"
     ]
    }
   ],
   "source": [
    "user_name='jegesm'\n",
    "Usage = Usage_Data()\n",
    "cont_list = Usage.select_user_containers(user_name)\n",
    "Usage.gather_data(cont_list, properties=[], last=True)\n",
    "\n",
    "P = properties\n",
    "mems = {}\n",
    "cpus = {}\n",
    "current_cpu = 0\n",
    "total_cpu = 0\n",
    "current_mem = 0\n",
    "for cid in Usage.selected_containers:\n",
    "    cont_data = Usage.containers[cid]\n",
    "    current_cpu += cont_data.last_data('cpuload')\n",
    "    cpus[cont_data.name] = cont_data.last_data('cpuload')\n",
    "\n",
    "    current_mem += cont_data.last_data('memoryusage')*P['memoryusage']['conv']\n",
    "    mems[cont_data.name] = cont_data.last_data('memoryusage')*P['memoryusage']['conv']\n",
    "\n",
    "scurrent_cpu = \"%.2f%s CPU\"%(float(current_cpu), P['cpuload']['unit'])\n",
    "scurrent_mem = \"%d %s\"%(int(current_mem),  P['memoryusage']['unit'])\n",
    "stotal_cpu = \"%.2f%s CPU\"%(float(total_cpu), P['cpuload']['unit'])\n",
    "\n",
    "print(json.dumps({'current_cpu': scurrent_cpu, 'current_mem': scurrent_mem,\n",
    "                  'total_cpu': stotal_cpu, 'cpus': cpus,\n",
    "                 'mems': mems}))"
   ]
  },
  {
   "cell_type": "code",
   "execution_count": 151,
   "metadata": {
    "ExecuteTime": {
     "end_time": "2019-01-06T19:21:46.843299Z",
     "start_time": "2019-01-06T19:21:45.248481Z"
    },
    "collapsed": true
   },
   "outputs": [
    {
     "name": "stdout",
     "output_type": "stream",
     "text": [
      "cpuload EMPTY ERROR\n",
      "cpuload EMPTY ERROR\n",
      "{\"current_cpu\": \"0.00% CPU\", \"current_mem\": \"401 MB\", \"total_cpu\": \"0.00% CPU\", \"cpus\": {\"/nb-dlakatos-test-dlakatos\": 0, \"/nb-tradnai-test-dlakatos\": 0, \"/nb-zudvarnoki-test-andras.major\": 0, \"/nb-jborcsok-test-andras.major\": 0, \"/nb-icsabai-test-andras.major\": 0, \"/nb-ppollner-test-andras.major\": 0, \"/nb-jegesm-test-jegesm\": 0, \"/nb-andras.major-test-andras.major\": 0, \"/nb-opipek-test-andras.major\": 0, \"/nb-gpalla-test-andras.major\": 0}, \"mems\": {\"/nb-dlakatos-test-dlakatos\": 0.0, \"/nb-tradnai-test-dlakatos\": 0.0, \"/nb-zudvarnoki-test-andras.major\": 0.0, \"/nb-jborcsok-test-andras.major\": 0.0, \"/nb-icsabai-test-andras.major\": 0.0, \"/nb-ppollner-test-andras.major\": 0.0, \"/nb-jegesm-test-jegesm\": 211.12109375, \"/nb-andras.major-test-andras.major\": 80.76171875, \"/nb-opipek-test-andras.major\": 57.33984375, \"/nb-gpalla-test-andras.major\": 52.23828125}}\n"
     ]
    }
   ],
   "source": [
    "# project_name='exosome'\n",
    "# Usage = Usage_Data()\n",
    "# cont_list = Usage.select_project_containers(project_name)\n",
    "# Usage.gather_data(cont_list, properties=[], last=True)\n",
    "\n",
    "# P = properties\n",
    "# mems = {}\n",
    "# cpus = {}\n",
    "# current_cpu = 0\n",
    "# total_cpu = 0\n",
    "# current_mem = 0\n",
    "# for cid in cont_list:\n",
    "#     cont_data = Usage.containers[cid]\n",
    "#     current_cpu += cont_data.last_data('cpuload')\n",
    "#     cpus[cont_data.name] = cont_data.last_data('cpuload')\n",
    "\n",
    "#     current_mem += cont_data.last_data('memoryusage')*P['memoryusage']['conv']\n",
    "#     mems[cont_data.name] = cont_data.last_data('memoryusage')*P['memoryusage']['conv']\n",
    "\n",
    "# scurrent_cpu = \"%.2f%s CPU\"%(float(current_cpu), P['cpuload']['unit'])\n",
    "# scurrent_mem = \"%d %s\"%(int(current_mem),  P['memoryusage']['unit'])\n",
    "# stotal_cpu = \"%.2f%s CPU\"%(float(total_cpu), P['cpuload']['unit'])\n",
    "\n",
    "# print(json.dumps({'current_cpu': scurrent_cpu, 'current_mem': scurrent_mem,\n",
    "#                   'total_cpu': stotal_cpu, 'cpus': cpus,\n",
    "#                  'mems': mems}))\n"
   ]
  },
  {
   "cell_type": "code",
   "execution_count": 125,
   "metadata": {
    "ExecuteTime": {
     "end_time": "2019-01-06T17:53:38.042689Z",
     "start_time": "2019-01-06T17:53:36.111783Z"
    }
   },
   "outputs": [],
   "source": [
    "# user_name='jegesm'\n",
    "# Usage = Usage_Data()\n",
    "# cont_list = Usage.select_user_containers(user_name)\n",
    "# Usage.gather_data(cont_list, properties=[], last=False)\n"
   ]
  }
 ],
 "metadata": {
  "kernelspec": {
   "display_name": "Python 3",
   "language": "python",
   "name": "python3"
  },
  "language_info": {
   "codemirror_mode": {
    "name": "ipython",
    "version": 3
   },
   "file_extension": ".py",
   "mimetype": "text/x-python",
   "name": "python",
   "nbconvert_exporter": "python",
   "pygments_lexer": "ipython3",
   "version": "3.6.3"
  },
  "latex_envs": {
   "LaTeX_envs_menu_present": true,
   "autoclose": false,
   "autocomplete": true,
   "bibliofile": "biblio.bib",
   "cite_by": "apalike",
   "current_citInitial": 1,
   "eqLabelWithNumbers": false,
   "eqNumInitial": 1,
   "hotkeys": {
    "equation": "Ctrl-E",
    "itemize": "Ctrl-I"
   },
   "labels_anchors": false,
   "latex_user_defs": false,
   "report_style_numbering": false,
   "user_envs_cfg": false
  },
  "varInspector": {
   "cols": {
    "lenName": 16,
    "lenType": 16,
    "lenVar": 40
   },
   "kernels_config": {
    "python": {
     "delete_cmd_postfix": "",
     "delete_cmd_prefix": "del ",
     "library": "var_list.py",
     "varRefreshCmd": "print(var_dic_list())"
    },
    "r": {
     "delete_cmd_postfix": ") ",
     "delete_cmd_prefix": "rm(",
     "library": "var_list.r",
     "varRefreshCmd": "cat(var_dic_list()) "
    }
   },
   "types_to_exclude": [
    "module",
    "function",
    "builtin_function_or_method",
    "instance",
    "_Feature"
   ],
   "window_display": false
  }
 },
 "nbformat": 4,
 "nbformat_minor": 2
}
